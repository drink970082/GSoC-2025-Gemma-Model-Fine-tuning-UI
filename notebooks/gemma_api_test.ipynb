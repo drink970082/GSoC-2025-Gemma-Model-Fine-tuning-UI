{
 "cells": [
  {
   "cell_type": "code",
   "execution_count": 9,
   "metadata": {},
   "outputs": [],
   "source": [
    "tb_data = tb.get_parsed_metadata()"
   ]
  },
  {
   "cell_type": "code",
   "execution_count": 10,
   "metadata": {},
   "outputs": [
    {
     "data": {
      "text/plain": [
       "dict_keys(['parameters', 'element_spec', 'context_spec', 'raw'])"
      ]
     },
     "execution_count": 10,
     "metadata": {},
     "output_type": "execute_result"
    }
   ],
   "source": [
    "tb_data.keys()"
   ]
  },
  {
   "cell_type": "code",
   "execution_count": 11,
   "metadata": {},
   "outputs": [
    {
     "name": "stdout",
     "output_type": "stream",
     "text": [
      "999885952\n"
     ]
    }
   ],
   "source": [
    "import pprint\n",
    "from backend.manager.tensorboard_manager import TensorBoardManager\n",
    "\n",
    "tb = TensorBoardManager()\n",
    "tb.set_work_dir(\n",
    "    \"/home/halcyon/root/gemma_fine_tuning_ui/checkpoints/Gemma3_1B-20250630_223543\"\n",
    ")\n",
    "\n",
    "tb\n",
    "total_steps = 100\n",
    "kpi = {\n",
    "    # Metadata\n",
    "    **tb.get_parsed_metadata()[\"parameters\"],\n",
    "    # Progress KPIs\n",
    "    \"current_step\": tb.get_current_step(),\n",
    "    \"total_steps\": total_steps,\n",
    "    \"current_loss\": tb.get_current_loss(),\n",
    "    \"training_time\": tb.get_training_time(),\n",
    "    # Performance KPIs\n",
    "    \"training_speed\": tb.get_training_speed(),\n",
    "    \"data_throughput\": tb.get_data_throughput(),\n",
    "    \"avg_step_time\": tb.get_avg_step_time(),\n",
    "    \"avg_eval_time\": tb.get_avg_eval_time(),\n",
    "    \"eta_str\": tb.get_eta_str(total_steps),\n",
    "}\n",
    "print(kpi.get(\"total_params\") or kpi.get(\"total_bytes\"))"
   ]
  },
  {
   "cell_type": "code",
   "execution_count": 14,
   "metadata": {},
   "outputs": [
    {
     "data": {
      "text/plain": [
       "1999771904"
      ]
     },
     "execution_count": 14,
     "metadata": {},
     "output_type": "execute_result"
    }
   ],
   "source": [
    "kpi.get(\"total_bytes\")"
   ]
  },
  {
   "cell_type": "code",
   "execution_count": 13,
   "metadata": {},
   "outputs": [
    {
     "name": "stdout",
     "output_type": "stream",
     "text": [
      "dict_keys(['total_params', 'total_bytes', 'layers', 'parameter_count', 'current_step', 'total_steps', 'current_loss', 'training_time', 'training_speed', 'data_throughput', 'avg_step_time', 'avg_eval_time', 'eta_str'])\n"
     ]
    }
   ],
   "source": [
    "print(kpi.keys())"
   ]
  },
  {
   "cell_type": "code",
   "execution_count": 16,
   "metadata": {},
   "outputs": [
    {
     "data": {
      "text/plain": [
       "286"
      ]
     },
     "execution_count": 16,
     "metadata": {},
     "output_type": "execute_result"
    }
   ],
   "source": [
    "len(kpi.get(\"layers\"))"
   ]
  },
  {
   "cell_type": "code",
   "execution_count": 18,
   "metadata": {},
   "outputs": [
    {
     "data": {
      "text/plain": [
       "697894912"
      ]
     },
     "execution_count": 18,
     "metadata": {},
     "output_type": "execute_result"
    }
   ],
   "source": [
    "kpi.get(\"parameter_count\")"
   ]
  },
  {
   "cell_type": "code",
   "execution_count": 17,
   "metadata": {},
   "outputs": [
    {
     "data": {
      "text/plain": [
       "1.8624327182769775"
      ]
     },
     "execution_count": 17,
     "metadata": {},
     "output_type": "execute_result"
    }
   ],
   "source": [
    "kpi.get(\"total_bytes\")/1024**3"
   ]
  },
  {
   "cell_type": "code",
   "execution_count": 12,
   "metadata": {},
   "outputs": [
    {
     "name": "stdout",
     "output_type": "stream",
     "text": [
      "#### Training Progress\n",
      "Global Step 11.0/100\n",
      "Current Loss 3.9699\n",
      "Training Speed 0.08 steps/sec\n",
      "Training Time 0.10511519014835358\n",
      "#### Performance Metrics\n",
      "Data Throughput 1 samples/sec\n",
      "ETA 00:17:35\n",
      "Avg Step Time 11.865s\n",
      "Avg Eval Time 0.000s\n"
     ]
    }
   ],
   "source": [
    "has_metadata = kpi.get(\"total_params\") or kpi.get(\"total_memory_mb\")\n",
    "is_training = kpi.get(\"current_step\", 0) > 0\n",
    "\n",
    "if not has_metadata or not is_training:\n",
    "    print(\"Waiting for training data...\")\n",
    "\n",
    "\n",
    "if is_training:\n",
    "    print(\"#### Training Progress\")\n",
    "    total_steps = kpi.get(\"total_steps\", 0)\n",
    "    current_step = kpi.get(\"current_step\", 0)\n",
    "    step_str = (\n",
    "        f\"{current_step}/{total_steps}\"\n",
    "        if total_steps > 0\n",
    "        else str(current_step)\n",
    "    )\n",
    "\n",
    "    print(\"Global Step\", step_str)\n",
    "    print(\"Current Loss\", f\"{kpi.get('current_loss', 0.0):.4f}\")\n",
    "    print(\n",
    "        \"Training Speed\",\n",
    "        f\"{kpi.get('training_speed', 0.0):.2f} steps/sec\",\n",
    "    )\n",
    "    print(\"Training Time\", kpi.get(\"training_time\", \"00:00:00\"))\n",
    "\n",
    "    print(\"#### Performance Metrics\")\n",
    "    print(\n",
    "        \"Data Throughput\",\n",
    "        f\"{kpi.get('data_throughput', 0.0):.0f} samples/sec\",\n",
    "    )\n",
    "    print(\"ETA\", kpi.get(\"eta_str\", \"N/A\"))\n",
    "    print(\"Avg Step Time\", f\"{kpi.get('avg_step_time', 0.0):.3f}s\")\n",
    "    print(\"Avg Eval Time\", f\"{kpi.get('avg_eval_time', 0.0):.3f}s\")\n",
    "\n",
    "elif has_metadata:\n",
    "    # If we have metadata but training hasn't started, show a clear message.\n",
    "    print(\"Waiting for training to start to show progress KPIs...\")"
   ]
  }
 ],
 "metadata": {
  "kernelspec": {
   "display_name": "gemma",
   "language": "python",
   "name": "python3"
  },
  "language_info": {
   "codemirror_mode": {
    "name": "ipython",
    "version": 3
   },
   "file_extension": ".py",
   "mimetype": "text/x-python",
   "name": "python",
   "nbconvert_exporter": "python",
   "pygments_lexer": "ipython3",
   "version": "3.11.11"
  }
 },
 "nbformat": 4,
 "nbformat_minor": 2
}
