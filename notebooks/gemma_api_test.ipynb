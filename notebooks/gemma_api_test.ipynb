{
 "cells": [
  {
   "cell_type": "code",
   "execution_count": 4,
   "metadata": {},
   "outputs": [],
   "source": [
    "from backend.manager.tensorboard_manager import TensorBoardManager\n",
    "import pandas as pd\n",
    "tensorboard_manager = TensorBoardManager()\n",
    "tensorboard_manager.set_work_dir(\"/home/halcyon/root/gemma_fine_tuning_ui/checkpoints/gemma-3-1b-LoRA-20250710_094638\")"
   ]
  },
  {
   "cell_type": "code",
   "execution_count": 9,
   "metadata": {},
   "outputs": [
    {
     "data": {
      "text/plain": [
       "dict_keys(['losses/loss', 'losses/total', 'perf_stats/steps_per_sec', 'perf_stats/total_training_time_hours', 'perf_stats/data_points_per_sec_global', 'perf_stats/data_points_per_sec_per_device', 'perf_stats/checkpoint/avg_time_sec', 'perf_stats/evals_along_train/avg_time_sec', 'perf_stats/train/avg_time_sec'])"
      ]
     },
     "execution_count": 9,
     "metadata": {},
     "output_type": "execute_result"
    }
   ],
   "source": [
    "tensorboard_manager.get_training_metrics().keys()"
   ]
  },
  {
   "cell_type": "code",
   "execution_count": null,
   "metadata": {},
   "outputs": [],
   "source": []
  }
 ],
 "metadata": {
  "kernelspec": {
   "display_name": "gemma",
   "language": "python",
   "name": "python3"
  },
  "language_info": {
   "codemirror_mode": {
    "name": "ipython",
    "version": 3
   },
   "file_extension": ".py",
   "mimetype": "text/x-python",
   "name": "python",
   "nbconvert_exporter": "python",
   "pygments_lexer": "ipython3",
   "version": "3.11.11"
  }
 },
 "nbformat": 4,
 "nbformat_minor": 2
}
